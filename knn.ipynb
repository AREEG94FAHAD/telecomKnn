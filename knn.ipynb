{
 "cells": [
  {
   "cell_type": "markdown",
   "id": "04748447",
   "metadata": {},
   "source": [
    "### K-NN"
   ]
  },
  {
   "cell_type": "markdown",
   "id": "35210aac",
   "metadata": {},
   "source": [
    "K's nearest neighbors are algorithm is a classification algorithm that takes a bunch of labeled points and uses them to learn how to label other points."
   ]
  },
  {
   "cell_type": "markdown",
   "id": "b3c07274",
   "metadata": {},
   "source": [
    "#### K-NN process steps\n",
    "\n",
    "1. Pick a value of K\n",
    "2. Calculate the distance of the unknown case form all cases\n",
    "3. Select the k-observation in the training data that is \"nearest\" to the unknown data point\n",
    "4. Predict the response of the unknown data point using the most popular response value from the k-nearest neighbors"
   ]
  },
  {
   "cell_type": "markdown",
   "id": "d126360b",
   "metadata": {},
   "source": [
    "#### How to calculate the distance ?"
   ]
  },
  {
   "cell_type": "markdown",
   "id": "d68a5742",
   "metadata": {},
   "source": [
    "Assume there are two customers. Cus1 and Cus2 have only one feature (age). To calculate the distance, we can use the Minkowski distance.\n",
    "\n",
    "$$ Minkowski Distnace=  \\sqrt{ \\sum_{i=0}^{n}\\left( x_{1_{i}}-x_{2_{i}} \\right)^2} $$\n",
    "\n",
    "If the Cus1's age is 34; and Cus2's age is 30 then the Distance is "
   ]
  },
  {
   "cell_type": "markdown",
   "id": "34920a22",
   "metadata": {},
   "source": [
    "> Note: Not only Minkowski you can use any other distance model "
   ]
  },
  {
   "cell_type": "markdown",
   "id": "7fe3b071",
   "metadata": {},
   "source": [
    "$$Dis(x_{1}, x_{2}) = \\sqrt{(34-30)^2} = 4$$"
   ]
  },
  {
   "cell_type": "markdown",
   "id": "b6ed7086",
   "metadata": {},
   "source": [
    "If there are two features (age (34, 30) and income (200, 190)), the value after applying the Minkowski equation will be"
   ]
  },
  {
   "cell_type": "markdown",
   "id": "71efc968",
   "metadata": {},
   "source": [
    "$$Dis(x_{1}, x_{2}) = \\sqrt{(34-30)^2 + (190-200)^2} = 11.87$$"
   ]
  },
  {
   "cell_type": "markdown",
   "id": "00209a84",
   "metadata": {},
   "source": [
    "#### How to pick the best K value"
   ]
  },
  {
   "cell_type": "markdown",
   "id": "6cff8889",
   "metadata": {},
   "source": [
    "You can select k randomly, compute the accuracy, and increase or decrease the value of k until you get high accuracy."
   ]
  },
  {
   "cell_type": "markdown",
   "id": "e9572461",
   "metadata": {},
   "source": [
    "#### How to compute the Accuracy "
   ]
  },
  {
   "cell_type": "markdown",
   "id": "f457d71b",
   "metadata": {},
   "source": [
    "To determine the model's accuracy, we compare the actual value in the test set to the predicted value. There are different models that can be used to determine the accuracy of the classification algorithms. such as Jaccard index, F1-score, Log Loss"
   ]
  },
  {
   "cell_type": "markdown",
   "id": "d7e2c1c9",
   "metadata": {},
   "source": [
    "1. Jaccard Index"
   ]
  },
  {
   "cell_type": "markdown",
   "id": "e51d61b3",
   "metadata": {},
   "source": [
    "$$J(y', y_{}) = \\frac{|y\\cap y'|}{|y\\cup y'|}$$"
   ]
  },
  {
   "cell_type": "markdown",
   "id": "40631a60",
   "metadata": {},
   "source": [
    "where y is the actual labels, and y is predicted labels"
   ]
  },
  {
   "cell_type": "markdown",
   "id": "e418e0a9",
   "metadata": {},
   "source": [
    "2. F1-score (confusion matrix)\n"
   ]
  },
  {
   "cell_type": "markdown",
   "id": "795d37d8",
   "metadata": {},
   "source": [
    "- Precision$$Precision = \\frac{TP}{TP+FP}$$\n",
    "- Recall $$Recall = \\frac{TP}{TP+FN}$$\n",
    "- F1-score$$F1-score = \\frac{2(Precision*Recall)}{Precision+Precision}$$"
   ]
  },
  {
   "cell_type": "code",
   "execution_count": 26,
   "id": "2a782819",
   "metadata": {},
   "outputs": [
    {
     "data": {
      "text/plain": [
       "Text(0.5, 1.0, 'Considering class 1')"
      ]
     },
     "execution_count": 26,
     "metadata": {},
     "output_type": "execute_result"
    },
    {
     "data": {
      "image/png": "[encoded data removed]",
      "text/plain": [
       "<Figure size 640x480 with 4 Axes>"
      ]
     },
     "metadata": {},
     "output_type": "display_data"
    }
   ],
   "source": [
    "cm = np.array([[1,   2],[3,  4]])\n",
    "considering_class_0=np.array([['TP','FN'],['FP','TN']])\n",
    "considering_class_1=np.array([['TN','FP'],['FN','TP']])\n",
    "import seaborn as sns\n",
    "import matplotlib.pyplot as plt     \n",
    "\n",
    "plt.figure(1)\n",
    "plt.subplot(221)\n",
    "sns.heatmap(cm, annot=considering_class_0,fmt=\"\", cmap='Blues')\n",
    "plt.title('Considering class 0')\n",
    "plt.subplot(222)\n",
    "sns.heatmap(cm, annot=considering_class_1,fmt=\"\", cmap='Blues')\n",
    "plt.title('Considering class 1')"
   ]
  },
  {
   "cell_type": "markdown",
   "id": "fe29e678",
   "metadata": {},
   "source": [
    ">Note: The confusion matrix is changed depending on the selected class. if there are two classes the recall, precision, and f1-score of each class should compute, then the average of F1-score will consider as the F1-score."
   ]
  },
  {
   "cell_type": "markdown",
   "id": "9ecf3c2a",
   "metadata": {},
   "source": [
    "3- Log Loss\n",
    "$$ Log Loss = -\\frac{1}{n}\\sum_{}^{} y\\times log(y')+(1-y)\\times log(1-y')$$"
   ]
  },
  {
   "cell_type": "markdown",
   "id": "84391086",
   "metadata": {},
   "source": [
    ">Note: Low log loss mean high accuracy"
   ]
  },
  {
   "cell_type": "code",
   "execution_count": null,
   "id": "779d4034",
   "metadata": {},
   "outputs": [],
   "source": []
  }
 ],
 "metadata": {
  "kernelspec": {
   "display_name": "Python 3 (ipykernel)",
   "language": "python",
   "name": "python3"
  },
  "language_info": {
   "codemirror_mode": {
    "name": "ipython",
    "version": 3
   },
   "file_extension": ".py",
   "mimetype": "text/x-python",
   "name": "python",
   "nbconvert_exporter": "python",
   "pygments_lexer": "ipython3",
   "version": "3.9.13"
  }
 },
 "nbformat": 4,
 "nbformat_minor": 5
}
